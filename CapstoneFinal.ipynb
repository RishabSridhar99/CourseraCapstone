{
 "cells": [
  {
   "cell_type": "code",
   "execution_count": 2,
   "metadata": {},
   "outputs": [
    {
     "ename": "ModuleNotFoundError",
     "evalue": "No module named 'bs4'",
     "output_type": "error",
     "traceback": [
      "\u001b[0;31m---------------------------------------------------------------------------\u001b[0m",
      "\u001b[0;31mModuleNotFoundError\u001b[0m                       Traceback (most recent call last)",
      "\u001b[0;32m<ipython-input-2-65860ab4e354>\u001b[0m in \u001b[0;36m<module>\u001b[0;34m\u001b[0m\n\u001b[0;32m----> 1\u001b[0;31m \u001b[0;32mfrom\u001b[0m \u001b[0mbs4\u001b[0m \u001b[0;32mimport\u001b[0m \u001b[0mBeautifulSoup\u001b[0m\u001b[0;34m\u001b[0m\u001b[0;34m\u001b[0m\u001b[0m\n\u001b[0m\u001b[1;32m      2\u001b[0m \u001b[0;32mimport\u001b[0m \u001b[0mjson\u001b[0m \u001b[0;31m# library to handle JSON files\u001b[0m\u001b[0;34m\u001b[0m\u001b[0;34m\u001b[0m\u001b[0m\n\u001b[1;32m      3\u001b[0m \u001b[0;32mimport\u001b[0m \u001b[0mnumpy\u001b[0m \u001b[0;32mas\u001b[0m \u001b[0mnp\u001b[0m\u001b[0;34m\u001b[0m\u001b[0;34m\u001b[0m\u001b[0m\n\u001b[1;32m      4\u001b[0m \u001b[0;32mimport\u001b[0m \u001b[0mpandas\u001b[0m \u001b[0;32mas\u001b[0m \u001b[0mpd\u001b[0m\u001b[0;34m\u001b[0m\u001b[0;34m\u001b[0m\u001b[0m\n\u001b[1;32m      5\u001b[0m \u001b[0;32mimport\u001b[0m \u001b[0mrequests\u001b[0m \u001b[0;31m# library to handle requests\u001b[0m\u001b[0;34m\u001b[0m\u001b[0;34m\u001b[0m\u001b[0m\n",
      "\u001b[0;31mModuleNotFoundError\u001b[0m: No module named 'bs4'"
     ]
    }
   ],
   "source": [
    "from bs4 import BeautifulSoup\n",
    "import json # library to handle JSON files\n",
    "import numpy as np\n",
    "import pandas as pd\n",
    "import requests # library to handle requests\n",
    "from pandas.io.json import json_normalize # tranform JSON file into a pandas dataframe\n",
    "# Matplotlib and associated plotting modules\n",
    "import matplotlib.cm as cm\n",
    "import matplotlib.colors as colors\n",
    "import urllib\n",
    "# import k-means from clustering stage\n",
    "from sklearn.cluster import KMeans\n",
    "#!conda install -c conda-forge geopy --yes # uncomment this line if you haven't completed the Foursquare API lab\n",
    "from geopy.geocoders import Nominatim # convert an address into latitude and longitude values\n",
    "!conda install -c conda-forge folium=0.5.0 --yes # uncomment this line if you haven't completed the Foursquare API lab\n",
    "import folium # map rendering library"
   ]
  },
  {
   "cell_type": "code",
   "execution_count": 12,
   "metadata": {},
   "outputs": [
    {
     "ename": "NameError",
     "evalue": "name 'pd' is not defined",
     "output_type": "error",
     "traceback": [
      "\u001b[0;31m---------------------------------------------------------------------------\u001b[0m",
      "\u001b[0;31mNameError\u001b[0m                                 Traceback (most recent call last)",
      "\u001b[0;32m<ipython-input-12-b669d1bf7a87>\u001b[0m in \u001b[0;36m<module>\u001b[0;34m\u001b[0m\n\u001b[1;32m      1\u001b[0m \u001b[0;31m# allow all of dataframe to be displayed\u001b[0m\u001b[0;34m\u001b[0m\u001b[0;34m\u001b[0m\u001b[0;34m\u001b[0m\u001b[0m\n\u001b[0;32m----> 2\u001b[0;31m \u001b[0mpd\u001b[0m\u001b[0;34m.\u001b[0m\u001b[0moptions\u001b[0m\u001b[0;34m.\u001b[0m\u001b[0mdisplay\u001b[0m\u001b[0;34m.\u001b[0m\u001b[0mmax_rows\u001b[0m \u001b[0;34m=\u001b[0m \u001b[0;36m4000\u001b[0m\u001b[0;34m\u001b[0m\u001b[0;34m\u001b[0m\u001b[0m\n\u001b[0m",
      "\u001b[0;31mNameError\u001b[0m: name 'pd' is not defined"
     ]
    }
   ],
   "source": [
    "# allow all of dataframe to be displayed\n",
    "pd.options.display.max_rows = 4000\n"
   ]
  },
  {
   "cell_type": "code",
   "execution_count": null,
   "metadata": {},
   "outputs": [],
   "source": [
    "#use beautiful soup to scrape wikipedia page\n",
    "url='https://en.wikipedia.org/wiki/List_of_postal_codes_of_Canada:_M'\n"
   ]
  },
  {
   "cell_type": "code",
   "execution_count": null,
   "metadata": {},
   "outputs": [],
   "source": [
    "# read the contents of the wikipedia page\n",
    "response = urllib.request.urlopen(url)\n",
    "rawhtml = response.read()\n"
   ]
  },
  {
   "cell_type": "code",
   "execution_count": null,
   "metadata": {},
   "outputs": [],
   "source": [
    "soup = BeautifulSoup(rawhtml, 'html.parser')\n"
   ]
  },
  {
   "cell_type": "code",
   "execution_count": null,
   "metadata": {},
   "outputs": [],
   "source": [
    "#find the table with the listing of postal codes (it has class wikitable)\n",
    "# then loop through the rows in the table and pull out the values of hte table cells\n",
    "\n",
    "pclist = []\n",
    "for table_row in soup.select(\"table.wikitable tr\"):\n",
    "    cells = table_row.findAll('td')\n",
    "    #row = [table_row.text.strip() for table_row in cells]\n",
    "    #pclist.append(row)\n",
    "    #note: do not include \"Not assigned\" values or grayed out values\n",
    "    if len(cells) > 0:\n",
    "        pc = cells[0].text.strip()\n",
    "        b = cells[1].text.strip()\n",
    "        n = cells[2].text.strip()\n",
    "\n",
    "        if (b == \"Not assigned\" and n==\"Not assigned\"):\n",
    "           #skip row\n",
    "            a=\"skipping\"\n",
    "            #print('skipping')\n",
    "       # elif (b == \"Not assigned\"):\n",
    "       #     pclist.append([pc,n,n])\n",
    "        elif(n==\"Not assigned\"):\n",
    "            #if the neighbourhood is not assigned, then subsitute in the borough\n",
    "            pclist.append([pc,b,b])\n",
    "        else:\n",
    "            pclist.append([pc,b,n])\n"
   ]
  },
  {
   "cell_type": "code",
   "execution_count": null,
   "metadata": {},
   "outputs": [],
   "source": [
    "toronto_df = pd.DataFrame(pclist, columns=[\"FSA\", \"Borough\", \"Neighborhood\"])\n",
    "toronto_df = toronto_df.sort_values(by=['FSA'])\n",
    "toronto_df.head(15)\n"
   ]
  },
  {
   "cell_type": "code",
   "execution_count": null,
   "metadata": {},
   "outputs": [],
   "source": [
    "#find the table with the listing of postal codes (it has class wikitable)\n",
    "# then loop through the rows in the table and pull out the values of hte table cells\n",
    "\n",
    "pclist = []\n",
    "prevPC = \"\" # stores the previous postal code to see if we need to append neighbourhoods or create a new row\n",
    "currNeighbourhoods = \"\"\n",
    "prevBorough = \"\"\n",
    "for table_row in soup.select(\"table.wikitable tr\"):\n",
    "    cells = table_row.findAll('td')\n",
    "    if len(cells) > 0:\n",
    "        pc = cells[0].text.strip()\n",
    "        b = cells[1].text.strip()\n",
    "        n = cells[2].text.strip()\n",
    "        if ((b == \"Not assigned\" and n==\"Not assigned\") or b == \"blank\"):\n",
    "           #skip row\n",
    "            a=\"skipping\"\n",
    "        else:\n",
    "            if (n==\"Not assigned\"):\n",
    "                n = b; # set the neighbourhood equal to the borough\n",
    "            \n",
    "            if (pc == prevPC):\n",
    "                # append neighbourhoods into comma delimited string\n",
    "                currNeighbourhoods = currNeighbourhoods + \", \" + n\n",
    "                 \n",
    "            else:\n",
    "                # new postal code, so write out previous row\n",
    "                if (prevPC != \"\"):\n",
    "                    pclist.append([prevPC,prevBorough,currNeighbourhoods])\n",
    "                prevPC = pc # set a new PrevPC value for next loop\n",
    "                prevBorough = b\n",
    "                currNeighbourhoods = n # start a new neighbourhoods string\n",
    "# write out last row\n",
    "pclist.append([prevPC,prevBorough,currNeighbourhoods])               \n",
    "            \n",
    "toronto_df = pd.DataFrame(pclist, columns=[\"PostalCode\", \"Borough\", \"Neighborhood\"])\n",
    "toronto_df = toronto_df.sort_values(by=['PostalCode'])#.reset_index()\n",
    "toronto_df#.head(15)\n"
   ]
  },
  {
   "cell_type": "code",
   "execution_count": null,
   "metadata": {},
   "outputs": [],
   "source": [
    "# confirm the shape\n",
    "toronto_df.shape\n"
   ]
  }
 ],
 "metadata": {
  "kernelspec": {
   "display_name": "Python",
   "language": "python",
   "name": "conda-env-python-py"
  },
  "language_info": {
   "codemirror_mode": {
    "name": "ipython",
    "version": 3
   },
   "file_extension": ".py",
   "mimetype": "text/x-python",
   "name": "python",
   "nbconvert_exporter": "python",
   "pygments_lexer": "ipython3",
   "version": "3.6.13"
  }
 },
 "nbformat": 4,
 "nbformat_minor": 4
}
